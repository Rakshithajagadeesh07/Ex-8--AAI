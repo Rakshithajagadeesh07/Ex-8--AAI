{
 "cells": [
  {
   "cell_type": "code",
   "execution_count": 4,
   "id": "8a4dcbf5",
   "metadata": {},
   "outputs": [
    {
     "name": "stdout",
     "output_type": "stream",
     "text": [
      "Defaulting to user installation because normal site-packages is not writeable\n",
      "Requirement already satisfied: SpeechRecognition in c:\\users\\admin\\appdata\\roaming\\python\\python311\\site-packages (3.14.3)\n",
      "Requirement already satisfied: typing-extensions in c:\\users\\admin\\appdata\\roaming\\python\\python311\\site-packages (from SpeechRecognition) (4.15.0)\n",
      "Defaulting to user installation because normal site-packages is not writeable\n",
      "Requirement already satisfied: pyaudio in c:\\users\\admin\\appdata\\roaming\\python\\python311\\site-packages (0.2.14)\n"
     ]
    }
   ],
   "source": [
    "!pip install SpeechRecognition\n",
    "!pip install pyaudio"
   ]
  },
  {
   "cell_type": "code",
   "execution_count": 11,
   "id": "259c8ebe",
   "metadata": {},
   "outputs": [
    {
     "name": "stdout",
     "output_type": "stream",
     "text": [
      "Say something... (you have 15 seconds)\n",
      "Listening...\n",
      "Processing...\n",
      "You said: welcome to applied artificial intelligence\n"
     ]
    }
   ],
   "source": [
    "import speech_recognition as sr\n",
    "\n",
    "r = sr.Recognizer()\n",
    "duration = 15\n",
    "\n",
    "print(\"Say something... (you have 15 seconds)\")\n",
    "\n",
    "try:\n",
    "    with sr.Microphone() as source:\n",
    "        r.adjust_for_ambient_noise(source)  \n",
    "        print(\"Listening...\")\n",
    "        audio_data = r.listen(source, timeout=duration)\n",
    "        print(\"Processing...\")\n",
    "    \n",
    "    text = r.recognize_google(audio_data)\n",
    "    print(\"You said:\", text)\n",
    "\n",
    "except sr.WaitTimeoutError:\n",
    "    print(\"No speech detected in given time.\")\n",
    "except sr.UnknownValueError:\n",
    "    print(\"Sorry, could not understand the audio.\")\n",
    "except sr.RequestError as e:\n",
    "    print(f\"Error with the request to Google Speech Recognition service: {e}\")\n",
    "except Exception as e:\n",
    "    print(f\"Error: {e}\")\n"
   ]
  },
  {
   "cell_type": "code",
   "execution_count": null,
   "id": "6949ba26",
   "metadata": {},
   "outputs": [],
   "source": []
  },
  {
   "cell_type": "code",
   "execution_count": null,
   "id": "8ffde116",
   "metadata": {},
   "outputs": [],
   "source": []
  }
 ],
 "metadata": {
  "kernelspec": {
   "display_name": "Python 3 (ipykernel)",
   "language": "python",
   "name": "python3"
  },
  "language_info": {
   "codemirror_mode": {
    "name": "ipython",
    "version": 3
   },
   "file_extension": ".py",
   "mimetype": "text/x-python",
   "name": "python",
   "nbconvert_exporter": "python",
   "pygments_lexer": "ipython3",
   "version": "3.11.3"
  }
 },
 "nbformat": 4,
 "nbformat_minor": 5
}
